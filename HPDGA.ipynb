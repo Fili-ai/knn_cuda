{
  "cells": [
    {
      "cell_type": "markdown",
      "metadata": {
        "id": "sf_yL9KHINSX"
      },
      "source": [
        "Accessing and cloning repo from GitHub"
      ]
    },
    {
      "cell_type": "code",
      "execution_count": null,
      "metadata": {
        "id": "qeKo69RSz6Tq"
      },
      "outputs": [],
      "source": [
        "## THIS CELL IS USED CLONE YOUR PRIVATE REPOSITORY\n",
        "## to generate fine-grained token: https://docs.github.com/en/authentication/keeping-your-account-and-data-secure/creating-a-personal-access-token\n",
        "TOKEN = \"\"           # CHANGE\n",
        "REPO_URL= \"\"         # CHANGE\n",
        "USER_NAME = \"\"       # CHANGE\n",
        "USER_EMAIL = \"\"      # CHANGE\n",
        "\n",
        "!git clone https://oauth2:$TOKEN@$REPO_URL"
      ]
    },
    {
      "cell_type": "code",
      "execution_count": null,
      "metadata": {
        "id": "Nc0TdQ9y7j-o"
      },
      "outputs": [],
      "source": [
        "%cd knn_cuda/code\n",
        "\n",
        "!ls -la\n",
        "\n",
        "!git remote set-url origin  https://oauth2:$TOKEN@$REPO_URL\n",
        "!git config user.name $USER_NAME\n",
        "!git config user.email $USER_EMAIL"
      ]
    },
    {
      "cell_type": "markdown",
      "metadata": {
        "id": "hRA_aYz_KjGU"
      },
      "source": [
        "Compile & Run"
      ]
    },
    {
      "cell_type": "code",
      "execution_count": null,
      "metadata": {
        "id": "ImZLgr20KWSh"
      },
      "outputs": [],
      "source": [
        "!make\n",
        "!./knn"
      ]
    },
    {
      "cell_type": "markdown",
      "metadata": {
        "id": "CsFiuksWItBT"
      },
      "source": [
        "Useful tool to profile the code"
      ]
    },
    {
      "cell_type": "code",
      "execution_count": null,
      "metadata": {
        "id": "7VuaHIZH4Mwa"
      },
      "outputs": [],
      "source": [
        "!compute-sanitizer --tool memcheck knn"
      ]
    },
    {
      "cell_type": "code",
      "execution_count": null,
      "metadata": {
        "id": "3rTCssMb3gAV"
      },
      "outputs": [],
      "source": [
        "!nvprof ./knn"
      ]
    },
    {
      "cell_type": "code",
      "execution_count": null,
      "metadata": {
        "id": "bePRIF1OwZdv"
      },
      "outputs": [],
      "source": [
        "!nvprof --print-gpu-trace ./knn"
      ]
    },
    {
      "cell_type": "markdown",
      "metadata": {
        "id": "sy6RCIIgIUDz"
      },
      "source": [
        "Add changes and commit it"
      ]
    },
    {
      "cell_type": "code",
      "execution_count": null,
      "metadata": {
        "colab": {
          "base_uri": "https://localhost:8080/"
        },
        "id": "qkEYcWUBt5u8",
        "outputId": "a11c9447-420a-4839-e351-038875c515cc"
      },
      "outputs": [],
      "source": [
        "# COMMIT CHANGES\n",
        "\n",
        "#!git add                     # place the filename after add --> !git add file1 file2 file3\n",
        "!git add -A                   # commit all files\n",
        "!git commit -m \"[Progress] Solution5.c reduction improvement\" # change with a relevant commit message"
      ]
    },
    {
      "cell_type": "markdown",
      "metadata": {
        "id": "4hURU9NFIZBv"
      },
      "source": [
        "Push changes"
      ]
    },
    {
      "cell_type": "code",
      "execution_count": null,
      "metadata": {
        "colab": {
          "base_uri": "https://localhost:8080/"
        },
        "id": "evSAUPzh4QHw",
        "outputId": "f4dc72da-becd-4f10-e552-69e549b8707b"
      },
      "outputs": [],
      "source": [
        "# PUSH CHANGES\n",
        "!git push"
      ]
    }
  ],
  "metadata": {
    "accelerator": "GPU",
    "colab": {
      "gpuType": "T4",
      "provenance": []
    },
    "kernelspec": {
      "display_name": "Python 3",
      "name": "python3"
    },
    "language_info": {
      "name": "python"
    }
  },
  "nbformat": 4,
  "nbformat_minor": 0
}
